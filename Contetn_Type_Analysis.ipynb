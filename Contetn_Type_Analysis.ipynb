{
 "cells": [
  {
   "cell_type": "code",
   "execution_count": 39,
   "metadata": {},
   "outputs": [],
   "source": [
    "import numpy as np\n",
    "import pandas as pd\n",
    "from numpy import NaN as nan\n",
    "import hazm\n",
    "from sklearn.model_selection import train_test_split as ttp"
   ]
  },
  {
   "cell_type": "code",
   "execution_count": 3,
   "metadata": {},
   "outputs": [],
   "source": [
    "# حل مشکل وجود کاراکترها در متن\n",
    "# این تابع متن یک رشته ورودی میگیره و نسخه تمیز شدش رو برمیگردونه\n",
    "def make_abstract_clean(text):\n",
    "    return text.replace('\\xad','').replace('\\u200c','').replace('\\u200f','').replace('\\n',' ').replace('\\xa0','').replace('\\u200e','').replace('\\r','').replace('\\u202b','') "
   ]
  },
  {
   "cell_type": "code",
   "execution_count": 4,
   "metadata": {},
   "outputs": [
    {
     "data": {
      "text/html": [
       "<div>\n",
       "<style scoped>\n",
       "    .dataframe tbody tr th:only-of-type {\n",
       "        vertical-align: middle;\n",
       "    }\n",
       "\n",
       "    .dataframe tbody tr th {\n",
       "        vertical-align: top;\n",
       "    }\n",
       "\n",
       "    .dataframe thead th {\n",
       "        text-align: right;\n",
       "    }\n",
       "</style>\n",
       "<table border=\"1\" class=\"dataframe\">\n",
       "  <thead>\n",
       "    <tr style=\"text-align: right;\">\n",
       "      <th></th>\n",
       "      <th>ID</th>\n",
       "      <th>Name</th>\n",
       "      <th>Date</th>\n",
       "      <th>Abstract</th>\n",
       "      <th>Content Type</th>\n",
       "      <th>Subject</th>\n",
       "      <th>Keywords</th>\n",
       "      <th>Authors</th>\n",
       "      <th>University</th>\n",
       "      <th>Url</th>\n",
       "    </tr>\n",
       "  </thead>\n",
       "  <tbody>\n",
       "    <tr>\n",
       "      <th>0</th>\n",
       "      <td>4560</td>\n",
       "      <td>شناسایی عوامل کلیدی مؤثر بر آینده بازیابی اطلا...</td>\n",
       "      <td>2009-04-01</td>\n",
       "      <td>در جهان کنونی که اطلاعات از هر طرف انسان­ها را...</td>\n",
       "      <td>پژوهشي</td>\n",
       "      <td>ذخیره و بازیابی</td>\n",
       "      <td>نظام‌های بازیابی اطلاعات, متخصصان علم اطلاعات,...</td>\n",
       "      <td>['ابوالفضل اسدنیا', 'مهرداد چشمه سهرابی', 'احم...</td>\n",
       "      <td>['دانشگاه اصفهان،اصفهان، ایران', 'دانشگاه اصفه...</td>\n",
       "      <td>https://jipm.irandoc.ac.ir/./article-1-4560-fa...</td>\n",
       "    </tr>\n",
       "    <tr>\n",
       "      <th>1</th>\n",
       "      <td>4455</td>\n",
       "      <td>ارائه الگوی پیشنهادی برای سیاست‌های تسهیل‌گر ع...</td>\n",
       "      <td>2009-04-01</td>\n",
       "      <td>علم آزاد بستر و سازو­کاری است که علم یا دستاور...</td>\n",
       "      <td>پژوهشي</td>\n",
       "      <td>دسترسی آزاد، علم آزاد، و داده آزاد</td>\n",
       "      <td>علم همگانی, علم باز, دسترسی آزاد, ارتباطات علم...</td>\n",
       "      <td>['شیما مرادی']</td>\n",
       "      <td>['مرکز تحقیقات سیاست علمی کشور']</td>\n",
       "      <td>https://jipm.irandoc.ac.ir/./article-1-4455-fa...</td>\n",
       "    </tr>\n",
       "    <tr>\n",
       "      <th>2</th>\n",
       "      <td>4410</td>\n",
       "      <td>پژوهش‌های حیطه ربط در ایران: مرور نظام‌مند</td>\n",
       "      <td>2009-04-01</td>\n",
       "      <td>ربط از جمله مفاهیمی است که به تایید محققان بسی...</td>\n",
       "      <td>مروري</td>\n",
       "      <td>ذخیره و بازیابی</td>\n",
       "      <td>ربط, جامعیت, مانعیت, قضاوت ربط, بازخورد ربط, ب...</td>\n",
       "      <td>['یعقوب نوروزی', 'سمانه خویدکی', 'زهرا صدرآبادی']</td>\n",
       "      <td>['دانشگاه قم', '', 'دانشگاه قم']</td>\n",
       "      <td>https://jipm.irandoc.ac.ir/./article-1-4410-fa...</td>\n",
       "    </tr>\n",
       "    <tr>\n",
       "      <th>3</th>\n",
       "      <td>4472</td>\n",
       "      <td>ارائه مدل شایستگی مدیر ارشد دیجیتال به عنوان ح...</td>\n",
       "      <td>2009-04-01</td>\n",
       "      <td>در عصر حاضر، سازمان‌ها درک کرده‌اند که بدون اس...</td>\n",
       "      <td>پژوهشي</td>\n",
       "      <td>دیگر زمینه‌ها، موضوع‌ها، و فناوری‌های نوین در ...</td>\n",
       "      <td>تحول دیجیتال, حکمرانی تحول دیجیتال, مدیر ارشد ...</td>\n",
       "      <td>['سید مهدی حسینی نسب', 'مهدی شامی زنجانی', 'آر...</td>\n",
       "      <td>['دانشگاه تهران', 'دانشگاه تهران', 'دانشگاه ته...</td>\n",
       "      <td>https://jipm.irandoc.ac.ir/./article-1-4472-fa...</td>\n",
       "    </tr>\n",
       "    <tr>\n",
       "      <th>4</th>\n",
       "      <td>4489</td>\n",
       "      <td>استخراج هوشمند مرز فراداده و متن در پایان نامه...</td>\n",
       "      <td>2009-04-01</td>\n",
       "      <td>استخراج فراداده باعث تسهیل در فرآیند نمایه­ساز...</td>\n",
       "      <td>پژوهشي</td>\n",
       "      <td>ذخیره و بازیابی</td>\n",
       "      <td>استخراج فراداده, استخراج اطلاعات, ماشین بردار ...</td>\n",
       "      <td>['محدثه رهنما', 'سیدمحمدحسین هاشمی نژاد', 'جلا...</td>\n",
       "      <td>['دانشگاه الزهرا(س)', 'دانشگاه الزهرا(س)', '، ...</td>\n",
       "      <td>https://jipm.irandoc.ac.ir/./article-1-4489-fa...</td>\n",
       "    </tr>\n",
       "    <tr>\n",
       "      <th>5</th>\n",
       "      <td>4499</td>\n",
       "      <td>سنجش مؤلفه‌های امنیت اطلاعات در دسترسی و استفا...</td>\n",
       "      <td>2009-04-01</td>\n",
       "      <td>امنیت اطلاعات یکی از عوامل موثر در حفاظت از ک...</td>\n",
       "      <td>پژوهشي</td>\n",
       "      <td>امنیت</td>\n",
       "      <td>امنیت اطلاعات , شهرستان قم , کتابخانه‌های دیجی...</td>\n",
       "      <td>['فریبرز درودی', 'زینب جمشیدی']</td>\n",
       "      <td>['پژوهشگاه علوم وفناوری اطلاعات ایران(ایرانداک...</td>\n",
       "      <td>https://jipm.irandoc.ac.ir/./article-1-4499-fa...</td>\n",
       "    </tr>\n",
       "    <tr>\n",
       "      <th>6</th>\n",
       "      <td>4290</td>\n",
       "      <td>تعیین میزان قابلیت اطمینان در سیستم‌های پرسش و...</td>\n",
       "      <td>2009-04-01</td>\n",
       "      <td>ارزیابی سیستم­های پرسش و پاسخ تعاملی به منظور ...</td>\n",
       "      <td>پژوهشي</td>\n",
       "      <td>فناوري اطلاعات</td>\n",
       "      <td>قابلیت اطمینان, معیار ارزیابی, خصوصیات کیفی نر...</td>\n",
       "      <td>['محمدمهدی حسینی', 'علیرضا جلالی']</td>\n",
       "      <td>['واحد شاهرود، دانشگاه آزاد اسلامی، شاهرود، ای...</td>\n",
       "      <td>https://jipm.irandoc.ac.ir/./article-1-4290-fa...</td>\n",
       "    </tr>\n",
       "    <tr>\n",
       "      <th>7</th>\n",
       "      <td>4477</td>\n",
       "      <td>ارائه روشی مبتنی بر ژنتیک برای رفع ابهام نام ن...</td>\n",
       "      <td>2009-04-01</td>\n",
       "      <td>امروزه با افزایش روزافزون حجم مقالات از یک طرف...</td>\n",
       "      <td>پژوهشي</td>\n",
       "      <td>ذخیره و بازیابی</td>\n",
       "      <td>ابهام نام نویسندگان, فاصله لونشتین, الگوریتم ژ...</td>\n",
       "      <td>['نیلوفر مظفری']</td>\n",
       "      <td>['مرکز منطقه ای اطلاع رسانی علوم و فناوری']</td>\n",
       "      <td>https://jipm.irandoc.ac.ir/./article-1-4477-fa...</td>\n",
       "    </tr>\n",
       "    <tr>\n",
       "      <th>8</th>\n",
       "      <td>4428</td>\n",
       "      <td>مدل علّی پذیرش و استفاده از فناوری اطلاعات و ا...</td>\n",
       "      <td>2009-04-01</td>\n",
       "      <td>فناوری اطلاعات و ارتباطات همچون الگوواره جدیدی...</td>\n",
       "      <td>پژوهشي</td>\n",
       "      <td>سیستم‌های مدیریت اطلاعات و دانش</td>\n",
       "      <td>مدل علّی پذیرش, فناوری اطلاعات و ارتباطات, نظر...</td>\n",
       "      <td>['شاهرخ محمدیان', 'ابوالفضل قاسم زاده علیشاهی'...</td>\n",
       "      <td>['دانشگاه شهید مدنی آذربایجان، تبریز، ایران', ...</td>\n",
       "      <td>https://jipm.irandoc.ac.ir/./article-1-4428-fa...</td>\n",
       "    </tr>\n",
       "    <tr>\n",
       "      <th>9</th>\n",
       "      <td>4390</td>\n",
       "      <td>ارزیابی تأثیر پژوهش‌ با استفاده از دگرسنجی(مطا...</td>\n",
       "      <td>2009-04-01</td>\n",
       "      <td>پژوهش حاضر مطالعه‌ای کاربردی است که با هدف ارز...</td>\n",
       "      <td>پژوهشي</td>\n",
       "      <td>ارزیابی و تحلیل</td>\n",
       "      <td>تأثیر پژوهش, دگرسنجه‌ها, پایگاه اسکوپوس, رسانه...</td>\n",
       "      <td>['مهری صدیقی']</td>\n",
       "      <td>['پژوهشگاه علوم وفناوری اطلاعات ایران(ایرانداک...</td>\n",
       "      <td>https://jipm.irandoc.ac.ir/./article-1-4390-fa...</td>\n",
       "    </tr>\n",
       "  </tbody>\n",
       "</table>\n",
       "</div>"
      ],
      "text/plain": [
       "     ID                                               Name       Date  \\\n",
       "0  4560  شناسایی عوامل کلیدی مؤثر بر آینده بازیابی اطلا... 2009-04-01   \n",
       "1  4455  ارائه الگوی پیشنهادی برای سیاست‌های تسهیل‌گر ع... 2009-04-01   \n",
       "2  4410         پژوهش‌های حیطه ربط در ایران: مرور نظام‌مند 2009-04-01   \n",
       "3  4472  ارائه مدل شایستگی مدیر ارشد دیجیتال به عنوان ح... 2009-04-01   \n",
       "4  4489  استخراج هوشمند مرز فراداده و متن در پایان نامه... 2009-04-01   \n",
       "5  4499  سنجش مؤلفه‌های امنیت اطلاعات در دسترسی و استفا... 2009-04-01   \n",
       "6  4290  تعیین میزان قابلیت اطمینان در سیستم‌های پرسش و... 2009-04-01   \n",
       "7  4477  ارائه روشی مبتنی بر ژنتیک برای رفع ابهام نام ن... 2009-04-01   \n",
       "8  4428  مدل علّی پذیرش و استفاده از فناوری اطلاعات و ا... 2009-04-01   \n",
       "9  4390  ارزیابی تأثیر پژوهش‌ با استفاده از دگرسنجی(مطا... 2009-04-01   \n",
       "\n",
       "                                            Abstract Content Type  \\\n",
       "0  در جهان کنونی که اطلاعات از هر طرف انسان­ها را...       پژوهشي   \n",
       "1  علم آزاد بستر و سازو­کاری است که علم یا دستاور...       پژوهشي   \n",
       "2  ربط از جمله مفاهیمی است که به تایید محققان بسی...        مروري   \n",
       "3  در عصر حاضر، سازمان‌ها درک کرده‌اند که بدون اس...       پژوهشي   \n",
       "4  استخراج فراداده باعث تسهیل در فرآیند نمایه­ساز...       پژوهشي   \n",
       "5   امنیت اطلاعات یکی از عوامل موثر در حفاظت از ک...       پژوهشي   \n",
       "6  ارزیابی سیستم­های پرسش و پاسخ تعاملی به منظور ...       پژوهشي   \n",
       "7  امروزه با افزایش روزافزون حجم مقالات از یک طرف...       پژوهشي   \n",
       "8  فناوری اطلاعات و ارتباطات همچون الگوواره جدیدی...       پژوهشي   \n",
       "9  پژوهش حاضر مطالعه‌ای کاربردی است که با هدف ارز...       پژوهشي   \n",
       "\n",
       "                                             Subject  \\\n",
       "0                                    ذخیره و بازیابی   \n",
       "1                 دسترسی آزاد، علم آزاد، و داده آزاد   \n",
       "2                                    ذخیره و بازیابی   \n",
       "3  دیگر زمینه‌ها، موضوع‌ها، و فناوری‌های نوین در ...   \n",
       "4                                    ذخیره و بازیابی   \n",
       "5                                              امنیت   \n",
       "6                                     فناوري اطلاعات   \n",
       "7                                    ذخیره و بازیابی   \n",
       "8                    سیستم‌های مدیریت اطلاعات و دانش   \n",
       "9                                    ارزیابی و تحلیل   \n",
       "\n",
       "                                            Keywords  \\\n",
       "0  نظام‌های بازیابی اطلاعات, متخصصان علم اطلاعات,...   \n",
       "1  علم همگانی, علم باز, دسترسی آزاد, ارتباطات علم...   \n",
       "2  ربط, جامعیت, مانعیت, قضاوت ربط, بازخورد ربط, ب...   \n",
       "3  تحول دیجیتال, حکمرانی تحول دیجیتال, مدیر ارشد ...   \n",
       "4  استخراج فراداده, استخراج اطلاعات, ماشین بردار ...   \n",
       "5  امنیت اطلاعات , شهرستان قم , کتابخانه‌های دیجی...   \n",
       "6  قابلیت اطمینان, معیار ارزیابی, خصوصیات کیفی نر...   \n",
       "7  ابهام نام نویسندگان, فاصله لونشتین, الگوریتم ژ...   \n",
       "8  مدل علّی پذیرش, فناوری اطلاعات و ارتباطات, نظر...   \n",
       "9  تأثیر پژوهش, دگرسنجه‌ها, پایگاه اسکوپوس, رسانه...   \n",
       "\n",
       "                                             Authors  \\\n",
       "0  ['ابوالفضل اسدنیا', 'مهرداد چشمه سهرابی', 'احم...   \n",
       "1                                     ['شیما مرادی']   \n",
       "2  ['یعقوب نوروزی', 'سمانه خویدکی', 'زهرا صدرآبادی']   \n",
       "3  ['سید مهدی حسینی نسب', 'مهدی شامی زنجانی', 'آر...   \n",
       "4  ['محدثه رهنما', 'سیدمحمدحسین هاشمی نژاد', 'جلا...   \n",
       "5                    ['فریبرز درودی', 'زینب جمشیدی']   \n",
       "6                 ['محمدمهدی حسینی', 'علیرضا جلالی']   \n",
       "7                                   ['نیلوفر مظفری']   \n",
       "8  ['شاهرخ محمدیان', 'ابوالفضل قاسم زاده علیشاهی'...   \n",
       "9                                     ['مهری صدیقی']   \n",
       "\n",
       "                                          University  \\\n",
       "0  ['دانشگاه اصفهان،اصفهان، ایران', 'دانشگاه اصفه...   \n",
       "1                   ['مرکز تحقیقات سیاست علمی کشور']   \n",
       "2                   ['دانشگاه قم', '', 'دانشگاه قم']   \n",
       "3  ['دانشگاه تهران', 'دانشگاه تهران', 'دانشگاه ته...   \n",
       "4  ['دانشگاه الزهرا(س)', 'دانشگاه الزهرا(س)', '، ...   \n",
       "5  ['پژوهشگاه علوم وفناوری اطلاعات ایران(ایرانداک...   \n",
       "6  ['واحد شاهرود، دانشگاه آزاد اسلامی، شاهرود، ای...   \n",
       "7        ['مرکز منطقه ای اطلاع رسانی علوم و فناوری']   \n",
       "8  ['دانشگاه شهید مدنی آذربایجان، تبریز، ایران', ...   \n",
       "9  ['پژوهشگاه علوم وفناوری اطلاعات ایران(ایرانداک...   \n",
       "\n",
       "                                                 Url  \n",
       "0  https://jipm.irandoc.ac.ir/./article-1-4560-fa...  \n",
       "1  https://jipm.irandoc.ac.ir/./article-1-4455-fa...  \n",
       "2  https://jipm.irandoc.ac.ir/./article-1-4410-fa...  \n",
       "3  https://jipm.irandoc.ac.ir/./article-1-4472-fa...  \n",
       "4  https://jipm.irandoc.ac.ir/./article-1-4489-fa...  \n",
       "5  https://jipm.irandoc.ac.ir/./article-1-4499-fa...  \n",
       "6  https://jipm.irandoc.ac.ir/./article-1-4290-fa...  \n",
       "7  https://jipm.irandoc.ac.ir/./article-1-4477-fa...  \n",
       "8  https://jipm.irandoc.ac.ir/./article-1-4428-fa...  \n",
       "9  https://jipm.irandoc.ac.ir/./article-1-4390-fa...  "
      ]
     },
     "execution_count": 4,
     "metadata": {},
     "output_type": "execute_result"
    }
   ],
   "source": [
    "#Loda Data\n",
    "data=pd.read_excel('data.xlsx')\n",
    "data.rename(columns={'Unnamed: 0':'ID' },inplace=True)\n",
    "\n",
    "#drop nan values\n",
    "data.dropna(subset=['Abstract'],inplace=True)\n",
    "data.head(10)"
   ]
  },
  {
   "cell_type": "code",
   "execution_count": 5,
   "metadata": {},
   "outputs": [],
   "source": [
    "#پیدا کردن کلماتی که بیشتر استفاده شده اند در هر کدام از انواع مقالات (پژوهشی یا مروری)\n",
    "stop_words= hazm.utils.stopwords_list(stopwords_file='/home/anvaari/Python Packages/hazm/hazm/data/stopwords.dat')\n",
    "signs=['،','«','»','.',')','(','\"',':',';','%','-','?',',','؛']\n",
    "tokenizer = hazm.WordTokenizer()\n",
    "pezho=pd.DataFrame(data[data['Content Type']=='پژوهشي'])\n",
    "pezho.dropna(subset=['Content Type'],inplace=True)\n",
    "mouro=pd.DataFrame(data[data['Content Type']=='مروري'])\n",
    "mouro.dropna(subset=['Content Type'],inplace=True)\n"
   ]
  },
  {
   "cell_type": "code",
   "execution_count": 6,
   "metadata": {},
   "outputs": [
    {
     "data": {
      "text/plain": [
       "[('اطلاعات', 2199),\n",
       " ('پژوهش', 1729),\n",
       " ('استفاده', 1624),\n",
       " ('بررسی', 1004),\n",
       " ('های', 960)]"
      ]
     },
     "execution_count": 6,
     "metadata": {},
     "output_type": "execute_result"
    }
   ],
   "source": [
    "#بررسی مقالات پژوهشی\n",
    "word_freq_pezho=dict()\n",
    "absts_sentence=[]\n",
    "for abst in pezho['Abstract']:\n",
    "    if abst is nan:\n",
    "        absts_sentence.append([])\n",
    "        continue\n",
    "    absts_sentence.append(abst.split('.'))\n",
    "    \n",
    "for i in range(len(absts_sentence)) :\n",
    "    for j in range(len(absts_sentence[i])):\n",
    "        absts_sentence[i][j]=make_abstract_clean(absts_sentence[i][j])\n",
    "        for word in tokenizer.tokenize(absts_sentence[i][j]):\n",
    "            if word not in word_freq_pezho and word not in stop_words and word not in signs:\n",
    "                word_freq_pezho[word]=1\n",
    "            elif word in word_freq_pezho:\n",
    "                word_freq_pezho[word]+=1\n",
    "sorted(word_freq_pezho.items(),key=lambda x:x[1],reverse=True)[0:5]\n"
   ]
  },
  {
   "cell_type": "code",
   "execution_count": 7,
   "metadata": {},
   "outputs": [
    {
     "data": {
      "text/plain": [
       "count    1006.000000\n",
       "mean        1.718688\n",
       "std         2.127617\n",
       "min         0.000000\n",
       "25%         0.000000\n",
       "50%         1.000000\n",
       "75%         3.000000\n",
       "max        22.000000\n",
       "dtype: float64"
      ]
     },
     "execution_count": 7,
     "metadata": {},
     "output_type": "execute_result"
    }
   ],
   "source": [
    "#میزان وجود کلمه پژوهش در هر خلاصه\n",
    "pezh_freq=dict()\n",
    "for index,row in pezho.iterrows():\n",
    "    abst=make_abstract_clean(row['Abstract'])\n",
    "    words_count=0\n",
    "    pezh_count=0\n",
    "    for word in hazm.word_tokenize(abst):\n",
    "        if word not in signs and word not in stop_words:\n",
    "            words_count+=1\n",
    "        if word == 'پژوهش':\n",
    "            pezh_count+=1\n",
    "    pezh_freq[index]=pezh_count\n",
    "pd.Series(pezh_freq).describe()"
   ]
  },
  {
   "cell_type": "code",
   "execution_count": 8,
   "metadata": {},
   "outputs": [
    {
     "data": {
      "text/plain": [
       "[('اطلاعات', 242),\n",
       " ('مدیریت', 146),\n",
       " ('اطلاعات,', 116),\n",
       " ('تحلیل', 103),\n",
       " ('اطلاعاتی', 94)]"
      ]
     },
     "execution_count": 8,
     "metadata": {},
     "output_type": "execute_result"
    }
   ],
   "source": [
    "#بررسی کلمات کلیدی\n",
    "keywords_pezho=dict()\n",
    "for index,row in pezho.iterrows():\n",
    "    if row['Keywords'] is nan:\n",
    "        continue\n",
    "    keys=row['Keywords']\n",
    "    keys=make_abstract_clean(keys)\n",
    "    keys_word=hazm.word_tokenize(keys)\n",
    "    for word in keys_word:\n",
    "        if word not in keywords_pezho and word not in stop_words and word not in signs:\n",
    "            keywords_pezho[word]=1\n",
    "        elif word in keywords_pezho:\n",
    "            keywords_pezho[word]+=1\n",
    "sorted(keywords_pezho.items(),key=lambda x:x[1],reverse=True)[0:5]\n"
   ]
  },
  {
   "cell_type": "code",
   "execution_count": 9,
   "metadata": {},
   "outputs": [
    {
     "data": {
      "text/plain": [
       "[('اطلاعات', 119),\n",
       " ('اطلاعاتی', 65),\n",
       " ('مقاله', 65),\n",
       " ('استفاده', 53),\n",
       " ('بررسی', 52)]"
      ]
     },
     "execution_count": 9,
     "metadata": {},
     "output_type": "execute_result"
    }
   ],
   "source": [
    "#بررسی مقالات مروری\n",
    "word_freq_mouro=dict()\n",
    "absts_sentence=[]\n",
    "for abst in mouro['Abstract']:\n",
    "    if abst is nan:\n",
    "        absts_sentence.append([])\n",
    "        continue\n",
    "    absts_sentence.append(abst.split('.'))\n",
    "    \n",
    "for i in range(len(absts_sentence)) :\n",
    "    for j in range(len(absts_sentence[i])):\n",
    "        absts_sentence[i][j]=make_abstract_clean(absts_sentence[i][j])\n",
    "        for word in tokenizer.tokenize(absts_sentence[i][j]):\n",
    "            if word not in word_freq_mouro and word not in stop_words and word not in signs:\n",
    "                word_freq_mouro[word]=1\n",
    "            elif word in word_freq_pezho:\n",
    "                word_freq_mouro[word]+=1\n",
    "sorted(word_freq_mouro.items(),key=lambda x:x[1],reverse=True)[0:5]"
   ]
  },
  {
   "cell_type": "code",
   "execution_count": 10,
   "metadata": {},
   "outputs": [
    {
     "data": {
      "text/plain": [
       "count    61.000000\n",
       "mean      0.524590\n",
       "std       1.259716\n",
       "min       0.000000\n",
       "25%       0.000000\n",
       "50%       0.000000\n",
       "75%       0.000000\n",
       "max       7.000000\n",
       "dtype: float64"
      ]
     },
     "execution_count": 10,
     "metadata": {},
     "output_type": "execute_result"
    }
   ],
   "source": [
    "# میزان وجود کلمه پژوهش در هر خلاصه مقالات مروری\n",
    "pezh_freq_mouro=dict()\n",
    "for index,row in mouro.iterrows():\n",
    "    abst=make_abstract_clean(row['Abstract'])\n",
    "    words_count=0\n",
    "    pezh_count=0\n",
    "    for word in hazm.word_tokenize(abst):\n",
    "        if word not in signs and word not in stop_words:\n",
    "            words_count+=1\n",
    "        if word == 'پژوهش':\n",
    "            pezh_count+=1\n",
    "    pezh_freq_mouro[index]=pezh_count\n",
    "pd.Series(pezh_freq_mouro).describe()"
   ]
  },
  {
   "cell_type": "code",
   "execution_count": 11,
   "metadata": {},
   "outputs": [
    {
     "data": {
      "text/plain": [
       "[('اطلاعات', 23),\n",
       " ('مدیریت', 12),\n",
       " ('بازیابی', 11),\n",
       " ('اطلاعات,', 9),\n",
       " ('اطلاعاتی', 9)]"
      ]
     },
     "execution_count": 11,
     "metadata": {},
     "output_type": "execute_result"
    }
   ],
   "source": [
    "#بررسی کلمات کلیدی در مقالات مروری\n",
    "keywords_mouro=dict()\n",
    "for index,row in mouro.iterrows():\n",
    "    if row['Keywords'] is nan:\n",
    "        continue\n",
    "    keys=row['Keywords']\n",
    "    keys=make_abstract_clean(keys)\n",
    "    keys_word=hazm.word_tokenize(keys)\n",
    "    for word in keys_word:\n",
    "        if word not in keywords_mouro and word not in stop_words and word not in signs:\n",
    "            keywords_mouro[word]=1\n",
    "        elif word in keywords_mouro:\n",
    "            keywords_mouro[word]+=1\n",
    "sorted(keywords_mouro.items(),key=lambda x:x[1],reverse=True)[0:5]"
   ]
  },
  {
   "cell_type": "code",
   "execution_count": 36,
   "metadata": {},
   "outputs": [
    {
     "data": {
      "text/plain": [
       "327"
      ]
     },
     "execution_count": 36,
     "metadata": {},
     "output_type": "execute_result"
    }
   ],
   "source": [
    "train,test=ttp(data,test_size=0.3, random_state=42)\n",
    "len(test)"
   ]
  },
  {
   "cell_type": "code",
   "execution_count": 37,
   "metadata": {},
   "outputs": [],
   "source": [
    "\n",
    "predict=[]\n",
    "label=[]\n",
    "for index,row in test.dropna(subset=['Content Type']).iterrows():\n",
    "    if row['Content Type']=='پژوهشي' :\n",
    "        label.append(0)\n",
    "    else:\n",
    "        label.append(1)\n",
    "    if 'پژوهش' in make_abstract_clean(row['Abstract']):\n",
    "        predict.append(0)\n",
    "    if 'پژوهش' not in make_abstract_clean(row['Abstract']):\n",
    "        predict.append(1)\n"
   ]
  },
  {
   "cell_type": "code",
   "execution_count": 38,
   "metadata": {},
   "outputs": [
    {
     "data": {
      "text/plain": [
       "0.6439628482972136"
      ]
     },
     "execution_count": 38,
     "metadata": {},
     "output_type": "execute_result"
    }
   ],
   "source": [
    "\n",
    "true_pos=0\n",
    "for i in range(len(predict)):\n",
    "    if predict[i]==label[i]:\n",
    "        true_pos+=1\n",
    "true_pos/len(predict)\n"
   ]
  },
  {
   "cell_type": "code",
   "execution_count": null,
   "metadata": {},
   "outputs": [],
   "source": []
  }
 ],
 "metadata": {
  "kernelspec": {
   "display_name": "ai_work",
   "language": "python",
   "name": "ai_work"
  },
  "language_info": {
   "codemirror_mode": {
    "name": "ipython",
    "version": 3
   },
   "file_extension": ".py",
   "mimetype": "text/x-python",
   "name": "python",
   "nbconvert_exporter": "python",
   "pygments_lexer": "ipython3",
   "version": "3.8.3"
  }
 },
 "nbformat": 4,
 "nbformat_minor": 4
}
