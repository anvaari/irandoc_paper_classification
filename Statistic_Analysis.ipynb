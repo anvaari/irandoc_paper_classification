{
 "cells": [
  {
   "cell_type": "code",
   "execution_count": 1,
   "metadata": {},
   "outputs": [],
   "source": [
    "import pandas as pd\n",
    "from matplotlib import pyplot as plt\n",
    "import seaborn as sbn \n",
    "from numpy import NaN as nan\n",
    "import math"
   ]
  },
  {
   "cell_type": "code",
   "execution_count": 3,
   "metadata": {},
   "outputs": [
    {
     "data": {
      "text/html": [
       "<div>\n",
       "<style scoped>\n",
       "    .dataframe tbody tr th:only-of-type {\n",
       "        vertical-align: middle;\n",
       "    }\n",
       "\n",
       "    .dataframe tbody tr th {\n",
       "        vertical-align: top;\n",
       "    }\n",
       "\n",
       "    .dataframe thead th {\n",
       "        text-align: right;\n",
       "    }\n",
       "</style>\n",
       "<table border=\"1\" class=\"dataframe\">\n",
       "  <thead>\n",
       "    <tr style=\"text-align: right;\">\n",
       "      <th></th>\n",
       "      <th>ID</th>\n",
       "      <th>Name</th>\n",
       "      <th>Date</th>\n",
       "      <th>Abstract</th>\n",
       "      <th>Content Type</th>\n",
       "      <th>Subject</th>\n",
       "      <th>Keywords</th>\n",
       "      <th>Authors</th>\n",
       "      <th>University</th>\n",
       "      <th>Url</th>\n",
       "    </tr>\n",
       "  </thead>\n",
       "  <tbody>\n",
       "    <tr>\n",
       "      <th>0</th>\n",
       "      <td>4560</td>\n",
       "      <td>شناسایی عوامل کلیدی مؤثر بر آینده بازیابی اطلا...</td>\n",
       "      <td>2009-04-01</td>\n",
       "      <td>در جهان کنونی که اطلاعات از هر طرف انسان­ها را...</td>\n",
       "      <td>پژوهشي</td>\n",
       "      <td>ذخیره و بازیابی</td>\n",
       "      <td>نظام‌های بازیابی اطلاعات, متخصصان علم اطلاعات,...</td>\n",
       "      <td>['ابوالفضل اسدنیا', 'مهرداد چشمه سهرابی', 'احم...</td>\n",
       "      <td>['دانشگاه اصفهان،اصفهان، ایران', 'دانشگاه اصفه...</td>\n",
       "      <td>https://jipm.irandoc.ac.ir/./article-1-4560-fa...</td>\n",
       "    </tr>\n",
       "    <tr>\n",
       "      <th>1</th>\n",
       "      <td>4455</td>\n",
       "      <td>ارائه الگوی پیشنهادی برای سیاست‌های تسهیل‌گر ع...</td>\n",
       "      <td>2009-04-01</td>\n",
       "      <td>علم آزاد بستر و سازو­کاری است که علم یا دستاور...</td>\n",
       "      <td>پژوهشي</td>\n",
       "      <td>دسترسی آزاد، علم آزاد، و داده آزاد</td>\n",
       "      <td>علم همگانی, علم باز, دسترسی آزاد, ارتباطات علم...</td>\n",
       "      <td>['شیما مرادی']</td>\n",
       "      <td>['مرکز تحقیقات سیاست علمی کشور']</td>\n",
       "      <td>https://jipm.irandoc.ac.ir/./article-1-4455-fa...</td>\n",
       "    </tr>\n",
       "    <tr>\n",
       "      <th>2</th>\n",
       "      <td>4410</td>\n",
       "      <td>پژوهش‌های حیطه ربط در ایران: مرور نظام‌مند</td>\n",
       "      <td>2009-04-01</td>\n",
       "      <td>ربط از جمله مفاهیمی است که به تایید محققان بسی...</td>\n",
       "      <td>مروري</td>\n",
       "      <td>ذخیره و بازیابی</td>\n",
       "      <td>ربط, جامعیت, مانعیت, قضاوت ربط, بازخورد ربط, ب...</td>\n",
       "      <td>['یعقوب نوروزی', 'سمانه خویدکی', 'زهرا صدرآبادی']</td>\n",
       "      <td>['دانشگاه قم', '', 'دانشگاه قم']</td>\n",
       "      <td>https://jipm.irandoc.ac.ir/./article-1-4410-fa...</td>\n",
       "    </tr>\n",
       "    <tr>\n",
       "      <th>3</th>\n",
       "      <td>4472</td>\n",
       "      <td>ارائه مدل شایستگی مدیر ارشد دیجیتال به عنوان ح...</td>\n",
       "      <td>2009-04-01</td>\n",
       "      <td>در عصر حاضر، سازمان‌ها درک کرده‌اند که بدون اس...</td>\n",
       "      <td>پژوهشي</td>\n",
       "      <td>دیگر زمینه‌ها، موضوع‌ها، و فناوری‌های نوین در ...</td>\n",
       "      <td>تحول دیجیتال, حکمرانی تحول دیجیتال, مدیر ارشد ...</td>\n",
       "      <td>['سید مهدی حسینی نسب', 'مهدی شامی زنجانی', 'آر...</td>\n",
       "      <td>['دانشگاه تهران', 'دانشگاه تهران', 'دانشگاه ته...</td>\n",
       "      <td>https://jipm.irandoc.ac.ir/./article-1-4472-fa...</td>\n",
       "    </tr>\n",
       "    <tr>\n",
       "      <th>4</th>\n",
       "      <td>4489</td>\n",
       "      <td>استخراج هوشمند مرز فراداده و متن در پایان نامه...</td>\n",
       "      <td>2009-04-01</td>\n",
       "      <td>استخراج فراداده باعث تسهیل در فرآیند نمایه­ساز...</td>\n",
       "      <td>پژوهشي</td>\n",
       "      <td>ذخیره و بازیابی</td>\n",
       "      <td>استخراج فراداده, استخراج اطلاعات, ماشین بردار ...</td>\n",
       "      <td>['محدثه رهنما', 'سیدمحمدحسین هاشمی نژاد', 'جلا...</td>\n",
       "      <td>['دانشگاه الزهرا(س)', 'دانشگاه الزهرا(س)', '، ...</td>\n",
       "      <td>https://jipm.irandoc.ac.ir/./article-1-4489-fa...</td>\n",
       "    </tr>\n",
       "    <tr>\n",
       "      <th>5</th>\n",
       "      <td>4499</td>\n",
       "      <td>سنجش مؤلفه‌های امنیت اطلاعات در دسترسی و استفا...</td>\n",
       "      <td>2009-04-01</td>\n",
       "      <td>امنیت اطلاعات یکی از عوامل موثر در حفاظت از ک...</td>\n",
       "      <td>پژوهشي</td>\n",
       "      <td>امنیت</td>\n",
       "      <td>امنیت اطلاعات , شهرستان قم , کتابخانه‌های دیجی...</td>\n",
       "      <td>['فریبرز درودی', 'زینب جمشیدی']</td>\n",
       "      <td>['پژوهشگاه علوم وفناوری اطلاعات ایران(ایرانداک...</td>\n",
       "      <td>https://jipm.irandoc.ac.ir/./article-1-4499-fa...</td>\n",
       "    </tr>\n",
       "    <tr>\n",
       "      <th>6</th>\n",
       "      <td>4290</td>\n",
       "      <td>تعیین میزان قابلیت اطمینان در سیستم‌های پرسش و...</td>\n",
       "      <td>2009-04-01</td>\n",
       "      <td>ارزیابی سیستم­های پرسش و پاسخ تعاملی به منظور ...</td>\n",
       "      <td>پژوهشي</td>\n",
       "      <td>فناوري اطلاعات</td>\n",
       "      <td>قابلیت اطمینان, معیار ارزیابی, خصوصیات کیفی نر...</td>\n",
       "      <td>['محمدمهدی حسینی', 'علیرضا جلالی']</td>\n",
       "      <td>['واحد شاهرود، دانشگاه آزاد اسلامی، شاهرود، ای...</td>\n",
       "      <td>https://jipm.irandoc.ac.ir/./article-1-4290-fa...</td>\n",
       "    </tr>\n",
       "    <tr>\n",
       "      <th>7</th>\n",
       "      <td>4477</td>\n",
       "      <td>ارائه روشی مبتنی بر ژنتیک برای رفع ابهام نام ن...</td>\n",
       "      <td>2009-04-01</td>\n",
       "      <td>امروزه با افزایش روزافزون حجم مقالات از یک طرف...</td>\n",
       "      <td>پژوهشي</td>\n",
       "      <td>ذخیره و بازیابی</td>\n",
       "      <td>ابهام نام نویسندگان, فاصله لونشتین, الگوریتم ژ...</td>\n",
       "      <td>['نیلوفر مظفری']</td>\n",
       "      <td>['مرکز منطقه ای اطلاع رسانی علوم و فناوری']</td>\n",
       "      <td>https://jipm.irandoc.ac.ir/./article-1-4477-fa...</td>\n",
       "    </tr>\n",
       "    <tr>\n",
       "      <th>8</th>\n",
       "      <td>4428</td>\n",
       "      <td>مدل علّی پذیرش و استفاده از فناوری اطلاعات و ا...</td>\n",
       "      <td>2009-04-01</td>\n",
       "      <td>فناوری اطلاعات و ارتباطات همچون الگوواره جدیدی...</td>\n",
       "      <td>پژوهشي</td>\n",
       "      <td>سیستم‌های مدیریت اطلاعات و دانش</td>\n",
       "      <td>مدل علّی پذیرش, فناوری اطلاعات و ارتباطات, نظر...</td>\n",
       "      <td>['شاهرخ محمدیان', 'ابوالفضل قاسم زاده علیشاهی'...</td>\n",
       "      <td>['دانشگاه شهید مدنی آذربایجان، تبریز، ایران', ...</td>\n",
       "      <td>https://jipm.irandoc.ac.ir/./article-1-4428-fa...</td>\n",
       "    </tr>\n",
       "    <tr>\n",
       "      <th>9</th>\n",
       "      <td>4390</td>\n",
       "      <td>ارزیابی تأثیر پژوهش‌ با استفاده از دگرسنجی(مطا...</td>\n",
       "      <td>2009-04-01</td>\n",
       "      <td>پژوهش حاضر مطالعه‌ای کاربردی است که با هدف ارز...</td>\n",
       "      <td>پژوهشي</td>\n",
       "      <td>ارزیابی و تحلیل</td>\n",
       "      <td>تأثیر پژوهش, دگرسنجه‌ها, پایگاه اسکوپوس, رسانه...</td>\n",
       "      <td>['مهری صدیقی']</td>\n",
       "      <td>['پژوهشگاه علوم وفناوری اطلاعات ایران(ایرانداک...</td>\n",
       "      <td>https://jipm.irandoc.ac.ir/./article-1-4390-fa...</td>\n",
       "    </tr>\n",
       "  </tbody>\n",
       "</table>\n",
       "</div>"
      ],
      "text/plain": [
       "     ID                                               Name       Date  \\\n",
       "0  4560  شناسایی عوامل کلیدی مؤثر بر آینده بازیابی اطلا... 2009-04-01   \n",
       "1  4455  ارائه الگوی پیشنهادی برای سیاست‌های تسهیل‌گر ع... 2009-04-01   \n",
       "2  4410         پژوهش‌های حیطه ربط در ایران: مرور نظام‌مند 2009-04-01   \n",
       "3  4472  ارائه مدل شایستگی مدیر ارشد دیجیتال به عنوان ح... 2009-04-01   \n",
       "4  4489  استخراج هوشمند مرز فراداده و متن در پایان نامه... 2009-04-01   \n",
       "5  4499  سنجش مؤلفه‌های امنیت اطلاعات در دسترسی و استفا... 2009-04-01   \n",
       "6  4290  تعیین میزان قابلیت اطمینان در سیستم‌های پرسش و... 2009-04-01   \n",
       "7  4477  ارائه روشی مبتنی بر ژنتیک برای رفع ابهام نام ن... 2009-04-01   \n",
       "8  4428  مدل علّی پذیرش و استفاده از فناوری اطلاعات و ا... 2009-04-01   \n",
       "9  4390  ارزیابی تأثیر پژوهش‌ با استفاده از دگرسنجی(مطا... 2009-04-01   \n",
       "\n",
       "                                            Abstract Content Type  \\\n",
       "0  در جهان کنونی که اطلاعات از هر طرف انسان­ها را...       پژوهشي   \n",
       "1  علم آزاد بستر و سازو­کاری است که علم یا دستاور...       پژوهشي   \n",
       "2  ربط از جمله مفاهیمی است که به تایید محققان بسی...        مروري   \n",
       "3  در عصر حاضر، سازمان‌ها درک کرده‌اند که بدون اس...       پژوهشي   \n",
       "4  استخراج فراداده باعث تسهیل در فرآیند نمایه­ساز...       پژوهشي   \n",
       "5   امنیت اطلاعات یکی از عوامل موثر در حفاظت از ک...       پژوهشي   \n",
       "6  ارزیابی سیستم­های پرسش و پاسخ تعاملی به منظور ...       پژوهشي   \n",
       "7  امروزه با افزایش روزافزون حجم مقالات از یک طرف...       پژوهشي   \n",
       "8  فناوری اطلاعات و ارتباطات همچون الگوواره جدیدی...       پژوهشي   \n",
       "9  پژوهش حاضر مطالعه‌ای کاربردی است که با هدف ارز...       پژوهشي   \n",
       "\n",
       "                                             Subject  \\\n",
       "0                                    ذخیره و بازیابی   \n",
       "1                 دسترسی آزاد، علم آزاد، و داده آزاد   \n",
       "2                                    ذخیره و بازیابی   \n",
       "3  دیگر زمینه‌ها، موضوع‌ها، و فناوری‌های نوین در ...   \n",
       "4                                    ذخیره و بازیابی   \n",
       "5                                              امنیت   \n",
       "6                                     فناوري اطلاعات   \n",
       "7                                    ذخیره و بازیابی   \n",
       "8                    سیستم‌های مدیریت اطلاعات و دانش   \n",
       "9                                    ارزیابی و تحلیل   \n",
       "\n",
       "                                            Keywords  \\\n",
       "0  نظام‌های بازیابی اطلاعات, متخصصان علم اطلاعات,...   \n",
       "1  علم همگانی, علم باز, دسترسی آزاد, ارتباطات علم...   \n",
       "2  ربط, جامعیت, مانعیت, قضاوت ربط, بازخورد ربط, ب...   \n",
       "3  تحول دیجیتال, حکمرانی تحول دیجیتال, مدیر ارشد ...   \n",
       "4  استخراج فراداده, استخراج اطلاعات, ماشین بردار ...   \n",
       "5  امنیت اطلاعات , شهرستان قم , کتابخانه‌های دیجی...   \n",
       "6  قابلیت اطمینان, معیار ارزیابی, خصوصیات کیفی نر...   \n",
       "7  ابهام نام نویسندگان, فاصله لونشتین, الگوریتم ژ...   \n",
       "8  مدل علّی پذیرش, فناوری اطلاعات و ارتباطات, نظر...   \n",
       "9  تأثیر پژوهش, دگرسنجه‌ها, پایگاه اسکوپوس, رسانه...   \n",
       "\n",
       "                                             Authors  \\\n",
       "0  ['ابوالفضل اسدنیا', 'مهرداد چشمه سهرابی', 'احم...   \n",
       "1                                     ['شیما مرادی']   \n",
       "2  ['یعقوب نوروزی', 'سمانه خویدکی', 'زهرا صدرآبادی']   \n",
       "3  ['سید مهدی حسینی نسب', 'مهدی شامی زنجانی', 'آر...   \n",
       "4  ['محدثه رهنما', 'سیدمحمدحسین هاشمی نژاد', 'جلا...   \n",
       "5                    ['فریبرز درودی', 'زینب جمشیدی']   \n",
       "6                 ['محمدمهدی حسینی', 'علیرضا جلالی']   \n",
       "7                                   ['نیلوفر مظفری']   \n",
       "8  ['شاهرخ محمدیان', 'ابوالفضل قاسم زاده علیشاهی'...   \n",
       "9                                     ['مهری صدیقی']   \n",
       "\n",
       "                                          University  \\\n",
       "0  ['دانشگاه اصفهان،اصفهان، ایران', 'دانشگاه اصفه...   \n",
       "1                   ['مرکز تحقیقات سیاست علمی کشور']   \n",
       "2                   ['دانشگاه قم', '', 'دانشگاه قم']   \n",
       "3  ['دانشگاه تهران', 'دانشگاه تهران', 'دانشگاه ته...   \n",
       "4  ['دانشگاه الزهرا(س)', 'دانشگاه الزهرا(س)', '، ...   \n",
       "5  ['پژوهشگاه علوم وفناوری اطلاعات ایران(ایرانداک...   \n",
       "6  ['واحد شاهرود، دانشگاه آزاد اسلامی، شاهرود، ای...   \n",
       "7        ['مرکز منطقه ای اطلاع رسانی علوم و فناوری']   \n",
       "8  ['دانشگاه شهید مدنی آذربایجان، تبریز، ایران', ...   \n",
       "9  ['پژوهشگاه علوم وفناوری اطلاعات ایران(ایرانداک...   \n",
       "\n",
       "                                                 Url  \n",
       "0  https://jipm.irandoc.ac.ir/./article-1-4560-fa...  \n",
       "1  https://jipm.irandoc.ac.ir/./article-1-4455-fa...  \n",
       "2  https://jipm.irandoc.ac.ir/./article-1-4410-fa...  \n",
       "3  https://jipm.irandoc.ac.ir/./article-1-4472-fa...  \n",
       "4  https://jipm.irandoc.ac.ir/./article-1-4489-fa...  \n",
       "5  https://jipm.irandoc.ac.ir/./article-1-4499-fa...  \n",
       "6  https://jipm.irandoc.ac.ir/./article-1-4290-fa...  \n",
       "7  https://jipm.irandoc.ac.ir/./article-1-4477-fa...  \n",
       "8  https://jipm.irandoc.ac.ir/./article-1-4428-fa...  \n",
       "9  https://jipm.irandoc.ac.ir/./article-1-4390-fa...  "
      ]
     },
     "execution_count": 3,
     "metadata": {},
     "output_type": "execute_result"
    }
   ],
   "source": [
    "#Import Data\n",
    "data=pd.read_excel('data.xlsx')\n",
    "data.rename(columns={'Unnamed: 0':'ID' },inplace=True)\n",
    "\n",
    "data_en=pd.read_excel('data_en.xlsx')\n",
    "data_en.rename(columns={'Unnamed: 0':'ID' },inplace=True)\n",
    "\n",
    "data.head(10)\n"
   ]
  },
  {
   "cell_type": "code",
   "execution_count": 4,
   "metadata": {},
   "outputs": [
    {
     "data": {
      "text/plain": [
       "پژوهشي          1031\n",
       "مروري             64\n",
       "ูพฺููุดู       1\n",
       "Name: Content Type, dtype: int64"
      ]
     },
     "execution_count": 4,
     "metadata": {},
     "output_type": "execute_result"
    }
   ],
   "source": [
    "content_type_unique=data['Content Type'].dropna().value_counts()\n",
    "content_type_unique"
   ]
  },
  {
   "cell_type": "code",
   "execution_count": 22,
   "metadata": {},
   "outputs": [
    {
     "data": {
      "text/plain": [
       "Text(0.5, 1.0, 'Distribution of Content Types')"
      ]
     },
     "execution_count": 22,
     "metadata": {},
     "output_type": "execute_result"
    },
    {
     "name": "stderr",
     "output_type": "stream",
     "text": [
      "/home/anvaari/anaconda3/envs/ai_work/lib/python3.8/site-packages/matplotlib/backends/backend_agg.py:214: RuntimeWarning: Glyph 3641 missing from current font.\n",
      "  font.set_text(s, 0.0, flags=flags)\n",
      "/home/anvaari/anaconda3/envs/ai_work/lib/python3.8/site-packages/matplotlib/backends/backend_agg.py:214: RuntimeWarning: Glyph 3614 missing from current font.\n",
      "  font.set_text(s, 0.0, flags=flags)\n",
      "/home/anvaari/anaconda3/envs/ai_work/lib/python3.8/site-packages/matplotlib/backends/backend_agg.py:214: RuntimeWarning: Glyph 3642 missing from current font.\n",
      "  font.set_text(s, 0.0, flags=flags)\n",
      "/home/anvaari/anaconda3/envs/ai_work/lib/python3.8/site-packages/matplotlib/backends/backend_agg.py:214: RuntimeWarning: Glyph 152 missing from current font.\n",
      "  font.set_text(s, 0.0, flags=flags)\n",
      "/home/anvaari/anaconda3/envs/ai_work/lib/python3.8/site-packages/matplotlib/backends/backend_agg.py:214: RuntimeWarning: Glyph 136 missing from current font.\n",
      "  font.set_text(s, 0.0, flags=flags)\n",
      "/home/anvaari/anaconda3/envs/ai_work/lib/python3.8/site-packages/matplotlib/backends/backend_agg.py:214: RuntimeWarning: Glyph 135 missing from current font.\n",
      "  font.set_text(s, 0.0, flags=flags)\n",
      "/home/anvaari/anaconda3/envs/ai_work/lib/python3.8/site-packages/matplotlib/backends/backend_agg.py:214: RuntimeWarning: Glyph 3640 missing from current font.\n",
      "  font.set_text(s, 0.0, flags=flags)\n",
      "/home/anvaari/anaconda3/envs/ai_work/lib/python3.8/site-packages/matplotlib/backends/backend_agg.py:214: RuntimeWarning: Glyph 3604 missing from current font.\n",
      "  font.set_text(s, 0.0, flags=flags)\n",
      "/home/anvaari/anaconda3/envs/ai_work/lib/python3.8/site-packages/matplotlib/backends/backend_agg.py:214: RuntimeWarning: Glyph 138 missing from current font.\n",
      "  font.set_text(s, 0.0, flags=flags)\n",
      "/home/anvaari/anaconda3/envs/ai_work/lib/python3.8/site-packages/matplotlib/backends/backend_agg.py:183: RuntimeWarning: Glyph 3641 missing from current font.\n",
      "  font.set_text(s, 0, flags=flags)\n",
      "/home/anvaari/anaconda3/envs/ai_work/lib/python3.8/site-packages/matplotlib/backends/backend_agg.py:183: RuntimeWarning: Glyph 3614 missing from current font.\n",
      "  font.set_text(s, 0, flags=flags)\n",
      "/home/anvaari/anaconda3/envs/ai_work/lib/python3.8/site-packages/matplotlib/backends/backend_agg.py:183: RuntimeWarning: Glyph 3642 missing from current font.\n",
      "  font.set_text(s, 0, flags=flags)\n",
      "/home/anvaari/anaconda3/envs/ai_work/lib/python3.8/site-packages/matplotlib/backends/backend_agg.py:183: RuntimeWarning: Glyph 152 missing from current font.\n",
      "  font.set_text(s, 0, flags=flags)\n",
      "/home/anvaari/anaconda3/envs/ai_work/lib/python3.8/site-packages/matplotlib/backends/backend_agg.py:183: RuntimeWarning: Glyph 136 missing from current font.\n",
      "  font.set_text(s, 0, flags=flags)\n",
      "/home/anvaari/anaconda3/envs/ai_work/lib/python3.8/site-packages/matplotlib/backends/backend_agg.py:183: RuntimeWarning: Glyph 135 missing from current font.\n",
      "  font.set_text(s, 0, flags=flags)\n",
      "/home/anvaari/anaconda3/envs/ai_work/lib/python3.8/site-packages/matplotlib/backends/backend_agg.py:183: RuntimeWarning: Glyph 3640 missing from current font.\n",
      "  font.set_text(s, 0, flags=flags)\n",
      "/home/anvaari/anaconda3/envs/ai_work/lib/python3.8/site-packages/matplotlib/backends/backend_agg.py:183: RuntimeWarning: Glyph 3604 missing from current font.\n",
      "  font.set_text(s, 0, flags=flags)\n",
      "/home/anvaari/anaconda3/envs/ai_work/lib/python3.8/site-packages/matplotlib/backends/backend_agg.py:183: RuntimeWarning: Glyph 138 missing from current font.\n",
      "  font.set_text(s, 0, flags=flags)\n"
     ]
    },
    {
     "data": {
      "image/png": "[encoded data removed]",
      "text/plain": [
       "<Figure size 432x288 with 1 Axes>"
      ]
     },
     "metadata": {
      "needs_background": "light"
     },
     "output_type": "display_data"
    }
   ],
   "source": [
    "plt.bar(content_type_unique.index,content_type_unique.values)\n",
    "plt.title('Distribution of Content Types')"
   ]
  },
  {
   "cell_type": "code",
   "execution_count": 5,
   "metadata": {},
   "outputs": [
    {
     "name": "stdout",
     "output_type": "stream",
     "text": [
      "كتابداري و اطلاع رساني                                                                          460\n",
      "فناوري اطلاعات                                                                                  232\n",
      "مدیریت اطلاعات                                                                                    8\n",
      "موضوع سطح چهارم                                                                                   7\n",
      "مدیریت دانش                                                                                       7\n",
      "ذخیره و بازیابی                                                                                   6\n",
      "دیگر زمینه‌ها، موضوع‌ها، و فناوری‌های نوین در پردازش و مدیریت اطلاعات و دانش علمی و فناورانه      5\n",
      "سیستم‌های مدیریت اطلاعات و دانش                                                                   3\n",
      "زبان شناسی رایانه ای                                                                              3\n",
      "تجربه و رابط کاربری                                                                               2\n",
      "اطلاع سنجی                                                                                        2\n",
      "تعامل انسان و اطلاعات                                                                             2\n",
      "ارزیابی و تحلیل                                                                                   2\n",
      "دسترسی آزاد، علم آزاد، و داده آزاد                                                                1\n",
      "اخلاق و حقوق                                                                                      1\n",
      "سازمان‌دهی                                                                                        1\n",
      "اصطلاح شناسی                                                                                      1\n",
      "مدیریت کیفیت                                                                                      1\n",
      "تحلیل داده‌های کلان                                                                               1\n",
      "رسانه                                                                                             1\n",
      "پایش و ارزیابی تأثیر                                                                              1\n",
      "امنیت                                                                                             1\n",
      "رفتار اطلاع‌یابی                                                                                  1\n",
      "تولید، فراهم‌آوری، و انتقال                                                                       1\n",
      "Name: Subject, dtype: int64\n"
     ]
    }
   ],
   "source": [
    "subject_unique=data['Subject'].value_counts()\n",
    "print(subject_unique)"
   ]
  },
  {
   "cell_type": "code",
   "execution_count": 31,
   "metadata": {},
   "outputs": [
    {
     "data": {
      "text/plain": [
       "{0: 'كتابداري و اطلاع رساني',\n",
       " 1: 'فناوري اطلاعات',\n",
       " 2: 'مدیریت اطلاعات',\n",
       " 3: 'مدیریت دانش',\n",
       " 4: 'موضوع سطح چهارم',\n",
       " 5: 'ذخیره و بازیابی',\n",
       " 6: 'دیگر زمینه\\u200cها، موضوع\\u200cها، و فناوری\\u200cهای نوین در پردازش و مدیریت اطلاعات و دانش علمی و فناورانه',\n",
       " 7: 'زبان شناسی رایانه ای',\n",
       " 8: 'سیستم\\u200cهای مدیریت اطلاعات و دانش',\n",
       " 9: 'اطلاع سنجی',\n",
       " 10: 'ارزیابی و تحلیل',\n",
       " 11: 'تعامل انسان و اطلاعات ',\n",
       " 12: 'تجربه و رابط کاربری',\n",
       " 13: 'رسانه',\n",
       " 14: 'سازمان\\u200cدهی',\n",
       " 15: 'مدیریت کیفیت',\n",
       " 16: 'تحلیل داده\\u200cهای کلان',\n",
       " 17: 'دسترسی آزاد، علم آزاد، و داده آزاد',\n",
       " 18: 'پایش و ارزیابی تأثیر',\n",
       " 19: 'اصطلاح شناسی',\n",
       " 20: 'رفتار اطلاع\\u200cیابی',\n",
       " 21: 'امنیت',\n",
       " 22: 'تولید، فراهم\\u200cآوری، و انتقال',\n",
       " 23: 'اخلاق و حقوق',\n",
       " 24: nan}"
      ]
     },
     "execution_count": 31,
     "metadata": {},
     "output_type": "execute_result"
    }
   ],
   "source": [
    "#Assign number to sunbjects because their name are too long \n",
    "subjects_name=list(subject_unique.index)\n",
    "subjects_id=[i for i in range(len(subjects_name))]\n",
    "\n",
    "subject_unique[nan]=data['Subject'].isna().sum()\n",
    "a=dict()\n",
    "for i in subjects_id:\n",
    "    a[i]=subjects_name[i]\n",
    "a"
   ]
  },
  {
   "cell_type": "code",
   "execution_count": 9,
   "metadata": {},
   "outputs": [
    {
     "ename": "ValueError",
     "evalue": "False is not in list",
     "output_type": "error",
     "traceback": [
      "\u001b[0;31m---------------------------------------------------------------------------\u001b[0m",
      "\u001b[0;31mValueError\u001b[0m                                Traceback (most recent call last)",
      "\u001b[0;32m<ipython-input-9-97a9fb1eb8b9>\u001b[0m in \u001b[0;36m<module>\u001b[0;34m\u001b[0m\n\u001b[1;32m      7\u001b[0m     \u001b[0;32melse\u001b[0m\u001b[0;34m:\u001b[0m\u001b[0;34m\u001b[0m\u001b[0;34m\u001b[0m\u001b[0m\n\u001b[1;32m      8\u001b[0m         \u001b[0mfa\u001b[0m\u001b[0;34m.\u001b[0m\u001b[0mappend\u001b[0m\u001b[0;34m(\u001b[0m\u001b[0msubjects_name\u001b[0m\u001b[0;34m[\u001b[0m\u001b[0mnew\u001b[0m\u001b[0;34m[\u001b[0m\u001b[0mi\u001b[0m\u001b[0;34m]\u001b[0m\u001b[0;34m]\u001b[0m \u001b[0;34m==\u001b[0m \u001b[0mdata\u001b[0m\u001b[0;34m[\u001b[0m\u001b[0;34m'Subject'\u001b[0m\u001b[0;34m]\u001b[0m\u001b[0;34m[\u001b[0m\u001b[0mi\u001b[0m\u001b[0;34m]\u001b[0m\u001b[0;34m)\u001b[0m\u001b[0;34m\u001b[0m\u001b[0;34m\u001b[0m\u001b[0m\n\u001b[0;32m----> 9\u001b[0;31m \u001b[0mfa\u001b[0m\u001b[0;34m.\u001b[0m\u001b[0mindex\u001b[0m\u001b[0;34m(\u001b[0m\u001b[0;32mFalse\u001b[0m\u001b[0;34m)\u001b[0m\u001b[0;34m\u001b[0m\u001b[0;34m\u001b[0m\u001b[0m\n\u001b[0m",
      "\u001b[0;31mValueError\u001b[0m: False is not in list"
     ]
    }
   ],
   "source": [
    "#check if indexex are still right\n",
    "new=data['Subject'].replace(subjects_name,subjects_id)\n",
    "fa=[]\n",
    "for i in range(len(new)):\n",
    "    if data['Subject'][i] is nan :\n",
    "        fa.append(subjects_name[new[i]] is data['Subject'][i])\n",
    "    else:    \n",
    "        fa.append(subjects_name[new[i]] == data['Subject'][i])\n",
    "fa.index(False)"
   ]
  },
  {
   "cell_type": "code",
   "execution_count": 10,
   "metadata": {},
   "outputs": [
    {
     "data": {
      "text/plain": [
       "Text(0.5, 1.0, 'Distribution of Subjects')"
      ]
     },
     "execution_count": 10,
     "metadata": {},
     "output_type": "execute_result"
    },
    {
     "data": {
      "image/png": "[encoded data removed]",
      "text/plain": [
       "<Figure size 432x288 with 1 Axes>"
      ]
     },
     "metadata": {
      "needs_background": "light"
     },
     "output_type": "display_data"
    }
   ],
   "source": [
    "subjects_value=[]\n",
    "for x in subjects_id:\n",
    "    if subjects_name[x] is nan:\n",
    "        subjects_value.append(data['Subject'].isna().sum())\n",
    "        continue\n",
    "    subjects_value.append(subject_unique[subjects_name[x]])\n",
    "plt.bar(subjects_id,subjects_value)\n",
    "plt.title('Distribution of Subjects')\n"
   ]
  },
  {
   "cell_type": "code",
   "execution_count": 41,
   "metadata": {},
   "outputs": [
    {
     "name": "stdout",
     "output_type": "stream",
     "text": [
      "22.950819672131146 Percent of Review articles have مرور in their abstract\n"
     ]
    }
   ],
   "source": [
    "#بررسی اینکه ایا میشه به کمک کلمه مرور مقالات مروری را تشخیص داد\n",
    "mouro=[]\n",
    "for i in range (64):#64 is the number of مروری content\n",
    "    if data[data['Content Type']=='مروري']['Abstract'].iloc[i] is nan:\n",
    "        continue\n",
    "    mouro.append( 'مرور' in data[data['Content Type']=='مروري']['Abstract'].iloc[i])\n",
    "print(mouro.count(True)/len(mouro)*100,'Percent of Review articles have مرور in their abstract')"
   ]
  },
  {
   "cell_type": "code",
   "execution_count": 42,
   "metadata": {},
   "outputs": [
    {
     "name": "stdout",
     "output_type": "stream",
     "text": [
      "93.83697813121272 Percent of Research articles haven't مرور in their abstract\n"
     ]
    }
   ],
   "source": [
    "pezho=[]\n",
    "for i in range (1031):#1031 is the number of پژوهشی content\n",
    "    if data[data['Content Type']=='پژوهشي']['Abstract'].iloc[i] is nan:\n",
    "        continue\n",
    "    pezho.append('مرور' in data[data['Content Type']=='پژوهشي']['Abstract'].iloc[i])\n",
    "print(pezho.count(False)/len(pezho)*100 , \"Percent of Research articles haven't مرور in their abstract\")"
   ]
  },
  {
   "cell_type": "code",
   "execution_count": null,
   "metadata": {},
   "outputs": [],
   "source": []
  }
 ],
 "metadata": {
  "kernelspec": {
   "display_name": "ai_work",
   "language": "python",
   "name": "ai_work"
  },
  "language_info": {
   "codemirror_mode": {
    "name": "ipython",
    "version": 3
   },
   "file_extension": ".py",
   "mimetype": "text/x-python",
   "name": "python",
   "nbconvert_exporter": "python",
   "pygments_lexer": "ipython3",
   "version": "3.8.3"
  }
 },
 "nbformat": 4,
 "nbformat_minor": 4
}
